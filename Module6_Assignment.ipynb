{
  "nbformat": 4,
  "nbformat_minor": 0,
  "metadata": {
    "colab": {
      "provenance": []
    },
    "kernelspec": {
      "name": "python3",
      "display_name": "Python 3"
    },
    "language_info": {
      "name": "python"
    }
  },
  "cells": [
    {
      "cell_type": "markdown",
      "source": [
        "1. What is the difference between interpreted and compiled languages?\n",
        " - C++ is an compiled language where source code is transformed into machine code by compiler. WHereas, python is an interpreted code which is executed line by line and the code is executed directly without  a seperate compilation step to convert in to machine code.\n",
        "\n",
        "2. What is exception handling in Python?\n",
        " - Python Exception Handling handles errors that occur during the execution of a program. Exception handling allows to respond to the error, instead of crashing the running program. It enables you to catch and manage errors, making your code more robust and user-friendly.\n",
        "\n",
        "3. What is the purpose of the finally block in exception handling?\n",
        " - Finally block in Python ensures that certain code is closed properly afetr the block of code is executed.\n",
        "\n",
        "4. What is logging in Python?\n",
        " - Loggigng records the statemnet and flow of your program code or software. It is useful for undestanding and  monitoring and debugging of your code.\n",
        "\n",
        "5. What is the significance of the __del__ method in Python?\n",
        " - __del__ method is used to delete variables and objects in pyhton program.\n",
        "\n",
        "6. What is the difference between import and from ... import in Python?\n",
        " - impot simply menas to import a module. Whereas from ... import menas to call a specific module from a defined package.\n",
        "\n",
        "7. How can you handle multiple exceptions in Python?\n",
        " - We can handle multiple exceptions in python by using multiple except blocks.\n",
        "\n",
        "8. What is the purpose of the with statement when handling files in Python?\n",
        " - The with statement in Python is used for handling files and other resources that require proper cleanup, such as closing a file after it is used. It ensures that resources are automatically released, even if an error occurs\n",
        "\n",
        "9. What is the difference between multithreading and multiprocessing?\n",
        " - Multi-threading happends on one processor, threads shre same memory space and resources within a proces. Whereas multi processing uses cores/ processes, each program execution has its own memory space and resources which are isolated from other process.\n",
        "\n",
        "10. What are the advantages of using logging in a program?\n",
        " - Logging shows how the program behave sover the time. It useful for monitoring and debugging of code.\n",
        "\n",
        "11. What is memory management in Python?\n",
        " - It is by default a prpcss in a process runs on a singl ethread or single threaded process.\n",
        "\n",
        "12. What are the basic steps involved in exception handling in Python?\n",
        " - The basic steps in exception handling are Try block, except block, else block and to close the code finally block.\n",
        "\n",
        "13. Why is memory management important in Python ?\n",
        " - Memeory management is important in python , as if you say you need to use multi-threads to execute a process. You need to have memory managemnet.\n",
        "\n",
        "14. What is the role of try and except in exception handling ?\n",
        " - Function of try block is the execution of the code and except block handles all the ecxecptions.\n",
        "\n",
        "15. How does Python's garbage collection system work ?\n",
        " - Python's garbage collection system automatically manages memory by reclaiming unused objects. It helps prevent memory leaks by removing objects that are no longer needed.\n",
        "\n",
        "16. What is the purpose of the else block in exception handling ?\n",
        " - The purpose of else block in exception handling to run the code if no exception occurs.\n",
        "\n",
        "17. What are the common logging levels in Python ?\n",
        " - The common logging levels in python are: Debug, Info, Warning, Error and Critical.\n",
        "\n",
        "18. What is the difference between os.fork() and multiprocessing in Python ?\n",
        " - Both os.fork() and the multiprocessing module in Python are used for creating new processes, but they work in different ways and have different use cases.\n",
        "\n",
        "19. What is the importance of closing a file in Python ?\n",
        " -  Closing a file is very importannt as it ensures the block of code is properly executed.\n",
        "\n",
        "20. What is the difference between file.read() and file.readline() in Python ?\n",
        " - file.read() Reads the entire file content as a single string if no size is specified. Whereas, file.readline() Reads one line at a time (including the newline character.\n",
        "\n",
        "21. What is the logging module in Python used for ?\n",
        " - Logging module in python is used for understanding and monitoting a code .\n",
        "\n",
        "22. What is the os module in Python used for in file handling ?\n",
        " - The os module in Python provides a way to interact with the operating system, including file handling operations like creating, deleting, renaming, and navigating directories.\n",
        "\n",
        "23. What are the challenges associated with memory management in Python ?\n",
        " - Currently, Python's memory management is handled by the internal Python memory manager, but there are some security risks: Python developers have no direct control over memory management, even when manipulating object pointers pointing to heap memory blocks. This can lead to unexpected memory access and corruption\n",
        "\n",
        "24. How do you raise an exception manually in Python ?\n",
        " - In Python, you can manually raise an exception using the raise keyword.\n",
        "\n",
        "25. Why is it important to use multithreading in certain applications?\n",
        " - it is important to use multithreading in I/O or Input and Output problems, multithreading allows multiple tasks to run concurrently (in parallel) within the same process. This can improve performance, responsiveness, and efficiency in certain types of applications"
      ],
      "metadata": {
        "id": "NjaImnQ0msIk"
      }
    },
    {
      "cell_type": "code",
      "source": [
        "#How can you open a file for writing in Python and write a string to it?\n",
        "file= open ('file.txt', 'w')\n",
        "file . write ('Hello World')\n",
        "file. close()"
      ],
      "metadata": {
        "id": "KcHymoPX1PU7"
      },
      "execution_count": 1,
      "outputs": []
    },
    {
      "cell_type": "code",
      "source": [
        "\n",
        "# Write a Python program to read the contents of a file and print each line\n",
        "file= open ('file.txt', 'r')\n",
        "for line in file:\n",
        "    print (line)\n",
        "    print(line)\n",
        "file.close()"
      ],
      "metadata": {
        "colab": {
          "base_uri": "https://localhost:8080/"
        },
        "id": "MZl7abAt1t1t",
        "outputId": "bb131d18-2228-46ba-c21a-af8f862816ef"
      },
      "execution_count": 4,
      "outputs": [
        {
          "output_type": "stream",
          "name": "stdout",
          "text": [
            "Hello World\n",
            "Hello World\n"
          ]
        }
      ]
    },
    {
      "cell_type": "code",
      "source": [
        "# How would you handle a case where the file doesn't exist while trying to open it for reading?\n",
        "def read_file(filename):\n",
        "    try:\n",
        "        with open(filename, \"r\") as file:\n",
        "            data = file.read()\n",
        "            return data\n",
        "    except FileNotFoundError:\n",
        "        print(f\"Error: File '{filename}' not found.\")\n",
        "        return None\n",
        "result = read_file(\"my_data.txt\")\n",
        "if result is not None:\n",
        "    print(\"File content:\", result)"
      ],
      "metadata": {
        "colab": {
          "base_uri": "https://localhost:8080/"
        },
        "id": "pxus_Tvn2eZT",
        "outputId": "df22577f-5bed-4c81-d9c5-5a274133fe95"
      },
      "execution_count": 5,
      "outputs": [
        {
          "output_type": "stream",
          "name": "stdout",
          "text": [
            "Error: File 'my_data.txt' not found.\n"
          ]
        }
      ]
    },
    {
      "cell_type": "code",
      "source": [
        "# Write a Python script that reads from one file and writes its content to another file\n",
        "\n",
        "input_file = 'input.txt'\n",
        "output_file = 'output.txt'\n",
        "with open(input_file, 'r') as infile:\n",
        "    content = infile.read()\n",
        "\n",
        "with open(output_file, 'w') as outfile:\n",
        "    outfile.write(content)\n",
        "\n",
        "print(f\"Content from '{input_file}' has been written to '{output_file}'.\")"
      ],
      "metadata": {
        "id": "ZwLEuxlz2Y-t"
      },
      "execution_count": 10,
      "outputs": []
    },
    {
      "cell_type": "code",
      "source": [
        "#How would you catch and handle division by zero error in Python\n",
        "\n",
        "def divide_numbers(a, b):\n",
        "    try:\n",
        "        result = a / b\n",
        "        print(f\"The result of {a} divided by {b} is: {result}\")\n",
        "    except ZeroDivisionError:\n",
        "        print(\"Error: Division by zero is not allowed.\")\n",
        "\n",
        "divide_numbers(10, 2)\n",
        "divide_numbers(10, 0)"
      ],
      "metadata": {
        "colab": {
          "base_uri": "https://localhost:8080/"
        },
        "id": "qmM3W9pC161x",
        "outputId": "701348f0-b711-4f88-9922-808d8344a67a"
      },
      "execution_count": 12,
      "outputs": [
        {
          "output_type": "stream",
          "name": "stdout",
          "text": [
            "The result of 10 divided by 2 is: 5.0\n",
            "Error: Division by zero is not allowed.\n"
          ]
        }
      ]
    },
    {
      "cell_type": "code",
      "source": [
        "#Write a Python program that logs an error message to a log file when a division by zero exception occurs\n",
        "import logging\n",
        "\n",
        "logging.basicConfig(\n",
        "    filename='division_errors.log',\n",
        "    level=logging.ERROR,\n",
        "    format='%(asctime)s - %(levelname)s - %(message)s'\n",
        ")\n",
        "\n",
        "def divide_numbers(a, b):\n",
        "    try:\n",
        "        result = a / b\n",
        "        print(f\"The result of {a} divided by {b} is: {result}\")\n",
        "    except ZeroDivisionError:\n",
        "\n",
        "        logging.error(f\"Division by zero occurred: {a} / {b}\")\n",
        "        print(\"Error: Division by zero is not allowed. Check the log file for details.\")\n",
        "\n",
        "divide_numbers(10, 2)\n",
        "divide_numbers(10, 0)"
      ],
      "metadata": {
        "colab": {
          "base_uri": "https://localhost:8080/"
        },
        "id": "ncax8czY5Fb1",
        "outputId": "c2dbfaad-f37d-4795-cddd-fbad73db8ba0"
      },
      "execution_count": 13,
      "outputs": [
        {
          "output_type": "stream",
          "name": "stderr",
          "text": [
            "ERROR:root:Division by zero occurred: 10 / 0\n"
          ]
        },
        {
          "output_type": "stream",
          "name": "stdout",
          "text": [
            "The result of 10 divided by 2 is: 5.0\n",
            "Error: Division by zero is not allowed. Check the log file for details.\n"
          ]
        }
      ]
    },
    {
      "cell_type": "code",
      "source": [
        "#How do you log information at different levels (INFO, ERROR, WARNING) in Python using the logging module\n",
        "\n",
        "import logging\n",
        "logging.basicConfig(filename='text.log', level=logging.INFO)\n",
        "logging.info('This is an info message')\n",
        "logging.warning('This is a warning message')\n",
        "logging.error('This is an error message')\n",
        "logging.warning('This is a warning message')\n",
        "logging.shutdown"
      ],
      "metadata": {
        "colab": {
          "base_uri": "https://localhost:8080/",
          "height": 225
        },
        "id": "VGyCGqq15lV1",
        "outputId": "bf5dad10-13f8-4a92-c86e-1b78376f9682"
      },
      "execution_count": 15,
      "outputs": [
        {
          "output_type": "stream",
          "name": "stderr",
          "text": [
            "WARNING:root:This is a warning message\n",
            "ERROR:root:This is an error message\n",
            "WARNING:root:This is a warning message\n"
          ]
        },
        {
          "output_type": "execute_result",
          "data": {
            "text/plain": [
              "<function logging.shutdown(handlerList=[<weakref at 0x7c570561d990; to 'StreamHandler' at 0x7c5703244810>, <weakref at 0x7c56fd1f9e90; to 'StreamHandler' at 0x7c5703925ed0>, <weakref at 0x7c56f4d5f830; to 'StreamHandler' at 0x7c56f5115750>])>"
            ],
            "text/html": [
              "<div style=\"max-width:800px; border: 1px solid var(--colab-border-color);\"><style>\n",
              "      pre.function-repr-contents {\n",
              "        overflow-x: auto;\n",
              "        padding: 8px 12px;\n",
              "        max-height: 500px;\n",
              "      }\n",
              "\n",
              "      pre.function-repr-contents.function-repr-contents-collapsed {\n",
              "        cursor: pointer;\n",
              "        max-height: 100px;\n",
              "      }\n",
              "    </style>\n",
              "    <pre style=\"white-space: initial; background:\n",
              "         var(--colab-secondary-surface-color); padding: 8px 12px;\n",
              "         border-bottom: 1px solid var(--colab-border-color);\"><b>logging.shutdown</b><br/>def shutdown(handlerList=_handlerList)</pre><pre class=\"function-repr-contents function-repr-contents-collapsed\" style=\"\"><a class=\"filepath\" style=\"display:none\" href=\"#\">/usr/lib/python3.11/logging/__init__.py</a>Perform any cleanup actions in the logging system (e.g. flushing\n",
              "buffers).\n",
              "\n",
              "Should be called at application exit.</pre>\n",
              "      <script>\n",
              "      if (google.colab.kernel.accessAllowed && google.colab.files && google.colab.files.view) {\n",
              "        for (const element of document.querySelectorAll('.filepath')) {\n",
              "          element.style.display = 'block'\n",
              "          element.onclick = (event) => {\n",
              "            event.preventDefault();\n",
              "            event.stopPropagation();\n",
              "            google.colab.files.view(element.textContent, 2170);\n",
              "          };\n",
              "        }\n",
              "      }\n",
              "      for (const element of document.querySelectorAll('.function-repr-contents')) {\n",
              "        element.onclick = (event) => {\n",
              "          event.preventDefault();\n",
              "          event.stopPropagation();\n",
              "          element.classList.toggle('function-repr-contents-collapsed');\n",
              "        };\n",
              "      }\n",
              "      </script>\n",
              "      </div>"
            ]
          },
          "metadata": {},
          "execution_count": 15
        }
      ]
    },
    {
      "cell_type": "code",
      "source": [
        "# Write a program to handle a file opening error using exception handling\n",
        "file_path = 'nonexistent_file.txt'\n",
        "\n",
        "try:\n",
        "\n",
        "    with open(file_path, 'r') as file:\n",
        "        content = file.read()\n",
        "        print(\"File content:\")\n",
        "        print(content)\n",
        "except FileNotFoundError:\n",
        "    print(f\"Error: The file '{file_path}' does not exist.\")\n",
        "except PermissionError:\n",
        "    print(f\"Error: You do not have permission to read the file '{file_path}'.\")\n",
        "except Exception as e:\n",
        "    print(f\"An unexpected error occurred: {e}\")"
      ],
      "metadata": {
        "colab": {
          "base_uri": "https://localhost:8080/"
        },
        "id": "CVwWfiBf6TGc",
        "outputId": "4d83b8b0-7ab7-4e08-c0b1-c8b06225c812"
      },
      "execution_count": 16,
      "outputs": [
        {
          "output_type": "stream",
          "name": "stdout",
          "text": [
            "Error: The file 'nonexistent_file.txt' does not exist.\n"
          ]
        }
      ]
    },
    {
      "cell_type": "code",
      "source": [
        "#Write a program to handle a file opening error using exception handling\n",
        "\n",
        "file_path = 'nonexistent_file.txt'\n",
        "\n",
        "try:\n",
        "\n",
        "    with open(file_path, 'r') as file:\n",
        "        content = file.read()\n",
        "        print(\"File content:\")\n",
        "        print(content)\n",
        "except FileNotFoundError:\n",
        "    print(f\"Error: The file '{file_path}' does not exist.\")\n",
        "except PermissionError:\n",
        "    print(f\"Error: You do not have permission to read the file '{file_path}'.\")\n",
        "except Exception as e:\n",
        "    print(f\"An unexpected error occurred: {e}\")\n"
      ],
      "metadata": {
        "colab": {
          "base_uri": "https://localhost:8080/"
        },
        "id": "kEO6TsSx6gqR",
        "outputId": "b45af12c-2e6b-42a2-ad17-029c90b056ea"
      },
      "execution_count": 17,
      "outputs": [
        {
          "output_type": "stream",
          "name": "stdout",
          "text": [
            "Error: The file 'nonexistent_file.txt' does not exist.\n"
          ]
        }
      ]
    },
    {
      "cell_type": "code",
      "source": [
        "#How can you read a file line by line and store its content in a list in Python\n",
        "\n",
        "file_path = 'example.txt'\n",
        "lines = []\n",
        "with open(file_path, 'r') as file:\n",
        "    for line in file:\n",
        "        lines.append(line.strip())\n",
        "print(lines)"
      ],
      "metadata": {
        "id": "NnSSqSbv6tw_"
      },
      "execution_count": 19,
      "outputs": []
    },
    {
      "cell_type": "code",
      "source": [
        "#How can you append data to an existing file in Python?\n",
        "\n",
        "file_path = 'example.txt'\n",
        "new_data = \"This is a new line of text.\\n\"\n",
        "with open(file_path, 'a') as file:\n",
        "    file.write(new_data)\n",
        "print(f\"Data appended to '{file_path}'.\")"
      ],
      "metadata": {
        "colab": {
          "base_uri": "https://localhost:8080/"
        },
        "id": "KsbQPFRx664R",
        "outputId": "3f030144-96e1-4b7b-94e5-81e7b7e8f3f5"
      },
      "execution_count": 20,
      "outputs": [
        {
          "output_type": "stream",
          "name": "stdout",
          "text": [
            "Data appended to 'example.txt'.\n"
          ]
        }
      ]
    },
    {
      "cell_type": "code",
      "source": [
        "#Write a Python program that uses a try-except block to handle an error when attempting to access a dictionary key that doesn't exist\n",
        "\n",
        "my_dict = {\n",
        "    'name': 'Alice',\n",
        "    'age': 25,\n",
        "    'city': 'New York'\n",
        "}\n",
        "\n",
        "\n",
        "key_to_access = 'occupation'\n",
        "\n",
        "try:\n",
        "\n",
        "    value = my_dict[key_to_access]\n",
        "    print(f\"The value for key '{key_to_access}' is: {value}\")\n",
        "except KeyError:\n",
        "\n",
        "    print(f\"Error: The key '{key_to_access}' does not exist in the dictionary.\")"
      ],
      "metadata": {
        "colab": {
          "base_uri": "https://localhost:8080/"
        },
        "id": "Xd_VIcz27MAG",
        "outputId": "8033de12-21ad-485b-e38f-a943e6b59317"
      },
      "execution_count": 21,
      "outputs": [
        {
          "output_type": "stream",
          "name": "stdout",
          "text": [
            "Error: The key 'occupation' does not exist in the dictionary.\n"
          ]
        }
      ]
    },
    {
      "cell_type": "code",
      "source": [
        "#Write a program that demonstrates using multiple except blocks to handle different types of exception\n",
        "def exception_handling_demo():\n",
        "    try:\n",
        "\n",
        "        num1 = int(input(\"Enter first number: \"))\n",
        "        num2 = int(input(\"Enter second number: \"))\n",
        "\n",
        "\n",
        "        result = num1 / num2\n",
        "\n",
        "\n",
        "        my_list = [1, 2, 3]\n",
        "        print(\"Accessing an element:\", my_list[5])\n",
        "\n",
        "    except ZeroDivisionError:\n",
        "        print(\"Error: You cannot divide by zero!\")\n",
        "\n",
        "    except ValueError:\n",
        "        print(\"Error: Invalid input! Please enter numeric values.\")\n",
        "\n",
        "    except IndexError:\n",
        "        print(\"Error: List index out of range!\")\n",
        "\n",
        "    except Exception as e:\n",
        "        print(f\"An unexpected error occurred: {e}\")\n",
        "\n",
        "    else:\n",
        "        print(\"Operation completed successfully! The result is:\", result)\n",
        "\n",
        "    finally:\n",
        "        print(\"Execution finished. Cleaning up resources if necessary.\")\n",
        "\n",
        "\n",
        "exception_handling_demo()\n"
      ],
      "metadata": {
        "colab": {
          "base_uri": "https://localhost:8080/"
        },
        "id": "7TWafiv17Vl3",
        "outputId": "2983f870-c9e0-49c0-d7e9-a9e6c802d677"
      },
      "execution_count": 22,
      "outputs": [
        {
          "output_type": "stream",
          "name": "stdout",
          "text": [
            "Enter first number: 6\n",
            "Enter second number: 5\n",
            "Error: List index out of range!\n",
            "Execution finished. Cleaning up resources if necessary.\n"
          ]
        }
      ]
    },
    {
      "cell_type": "code",
      "source": [
        "# How would you check if a file exists before attempting to read it in Python\n",
        "import os\n",
        "\n",
        "file_path = \"example.txt\"\n",
        "\n",
        "if os.path.exists(file_path):\n",
        "    with open(file_path, \"r\") as file:\n",
        "        content = file.read()\n",
        "        print(content)\n",
        "else:\n",
        "    print(\"File does not exist!\")\n"
      ],
      "metadata": {
        "colab": {
          "base_uri": "https://localhost:8080/"
        },
        "id": "jUZVKgiE78VQ",
        "outputId": "c23405e8-cb2f-41b8-83c5-f2f5b7501fae"
      },
      "execution_count": 23,
      "outputs": [
        {
          "output_type": "stream",
          "name": "stdout",
          "text": [
            "This is a new line of text.\n",
            "\n"
          ]
        }
      ]
    },
    {
      "cell_type": "code",
      "source": [
        "# Write a program that uses the logging module to log both informational and error messages\n",
        "import logging\n",
        "\n",
        "# Configure logging\n",
        "logging.basicConfig(\n",
        "    filename='app.log',\n",
        "    level=logging.DEBUG,\n",
        "    format='%(asctime)s - %(levelname)s - %(message)s'\n",
        ")\n",
        "\n",
        "def divide_numbers(a, b):\n",
        "    logging.info(f\"Received numbers for division: {a}, {b}\")\n",
        "    try:\n",
        "        result = a / b\n",
        "        logging.info(f\"Division successful: {a} / {b} = {result}\")\n",
        "        return result\n",
        "    except ZeroDivisionError:\n",
        "        logging.error(\"Error: Division by zero attempted!\")\n",
        "        return None\n",
        "    except Exception as e:\n",
        "        logging.error(f\"Unexpected error occurred: {e}\")\n",
        "        return None\n",
        "\n",
        "if __name__ == \"__main__\":\n",
        "    divide_numbers(10, 2)\n",
        "    divide_numbers(5, 0)"
      ],
      "metadata": {
        "colab": {
          "base_uri": "https://localhost:8080/"
        },
        "id": "b1VwMrwy8R2A",
        "outputId": "d362aafc-6582-47ed-e8ca-d0cd64a6c4d0"
      },
      "execution_count": 24,
      "outputs": [
        {
          "output_type": "stream",
          "name": "stderr",
          "text": [
            "ERROR:root:Error: Division by zero attempted!\n"
          ]
        }
      ]
    },
    {
      "cell_type": "code",
      "source": [
        "# Write a Python program that prints the content of a file and handles the case when the file is empty\n",
        "\n",
        "\n",
        "import os\n",
        "\n",
        "def read_file(file_path):\n",
        "    try:\n",
        "        if not os.path.exists(file_path):\n",
        "            print(\"Error: File does not exist.\")\n",
        "            return\n",
        "\n",
        "        with open(file_path, 'r') as file:\n",
        "            content = file.read()\n",
        "\n",
        "            if not content:\n",
        "                print(\"The file is empty.\")\n",
        "            else:\n",
        "                print(\"File content:\\n\" + content)\n",
        "\n",
        "    except Exception as e:\n",
        "        print(f\"An error occurred: {e}\")\n",
        "\n",
        "if __name__ == \"__main__\":\n",
        "    file_path = input(\"Enter the file path: \")\n",
        "    read_file(file_path)"
      ],
      "metadata": {
        "colab": {
          "base_uri": "https://localhost:8080/"
        },
        "id": "A0NTJ9xA8cyK",
        "outputId": "b538581b-353e-415f-dd62-7eb6fcca6529"
      },
      "execution_count": 25,
      "outputs": [
        {
          "output_type": "stream",
          "name": "stdout",
          "text": [
            "Enter the file path: file.txt\n",
            "File content:\n",
            "Hello World\n"
          ]
        }
      ]
    },
    {
      "cell_type": "code",
      "source": [
        "# Demonstrate how to use memory profiling to check the memory usage of a small program\n",
        "!pip install memory_profiler\n",
        "\n",
        "@profile\n",
        "def create_large_list():\n",
        "    large_list = [i for i in range(1000000)]\n",
        "    return large_list\n",
        "\n",
        "@profile\n",
        "def delete_list(large_list):\n",
        "    del large_list\n",
        "\n",
        "@profile\n",
        "def main():\n",
        "    my_list = create_large_list()\n",
        "    delete_list(my_list)\n",
        "\n",
        "if __name__ == \"__main__\":\n",
        "    main()\n",
        "def create_large_list():\n",
        "    large_list = [i for i in range(1000000)]\n",
        "    return large_list\n",
        "\n",
        "@profile\n",
        "def delete_list(large_list):\n",
        "    del large_list\n",
        "\n",
        "@profile\n",
        "def main():\n",
        "    my_list = create_large_list()\n",
        "    delete_list(my_list)\n",
        "\n",
        "if __name__ == \"__main__\":\n",
        "    main()"
      ],
      "metadata": {
        "id": "njdjZ08n8oxf"
      },
      "execution_count": 30,
      "outputs": []
    },
    {
      "cell_type": "code",
      "source": [
        "# Write a Python program to create and write a list of numbers to a file, one number per line\n",
        "\n",
        "\n",
        "def write_numbers_to_file(file_path, numbers):\n",
        "    try:\n",
        "        with open(file_path, 'w') as file:\n",
        "            for number in numbers:\n",
        "                file.write(f\"{number}\\n\")\n",
        "        print(f\"Numbers successfully written to {file_path}\")\n",
        "    except Exception as e:\n",
        "        print(f\"An error occurred: {e}\")\n",
        "\n",
        "if __name__ == \"__main__\":\n",
        "    numbers = list(range(1, 11))\n",
        "    file_path = \"numbers.txt\"\n",
        "    write_numbers_to_file(file_path, numbers)\n"
      ],
      "metadata": {
        "colab": {
          "base_uri": "https://localhost:8080/"
        },
        "id": "kIdzO0St9DRB",
        "outputId": "ef831f12-81f3-4775-c615-64a19e45eded"
      },
      "execution_count": 34,
      "outputs": [
        {
          "output_type": "stream",
          "name": "stdout",
          "text": [
            "Numbers successfully written to numbers.txt\n"
          ]
        }
      ]
    },
    {
      "cell_type": "code",
      "source": [
        "# How would you implement a basic logging setup that logs to a file with rotation after 1MB\n",
        "log_file = \"app.log\"\n",
        "log_handler = RotatingFileHandler(log_file, maxBytes=1_048_576, backupCount=3)\n",
        "log_formatter = logging.Formatter('%(asctime)s - %(levelname)s - %(message)s')\n",
        "log_handler.setFormatter(log_formatter)\n",
        "\n",
        "logger = logging.getLogger(\"RotatingLogger\")\n",
        "logger.setLevel(logging.DEBUG)\n",
        "logger.addHandler(log_handler)\n",
        "\n",
        "\n",
        "if __name__ == \"__main__\":\n",
        "    for i in range(10000):\n",
        "        logger.info(f\"Log entry {i}\")\n",
        "        if i % 1000 == 0:\n",
        "            print(f\"Logged {i} entries\")"
      ],
      "metadata": {
        "id": "HlBrrfpe9883"
      },
      "execution_count": 33,
      "outputs": []
    },
    {
      "cell_type": "code",
      "source": [
        "# Write a program that handles both IndexError and KeyError using a try-except block\n",
        "def handle_exceptions():\n",
        "    try:\n",
        "\n",
        "        my_list = [1, 2, 3]\n",
        "        print(\"List element:\", my_list[5])\n",
        "\n",
        "        my_dict = {\"a\": 1, \"b\": 2}\n",
        "        print(\"Dictionary value:\", my_dict[\"c\"])\n",
        "\n",
        "    except IndexError:\n",
        "        print(\"Error: List index is out of range!\")\n",
        "\n",
        "    except KeyError:\n",
        "        print(\"Error: Specified key does not exist in the dictionary!\")\n",
        "\n",
        "    except Exception as e:\n",
        "        print(f\"An unexpected error occurred: {e}\")\n",
        "\n",
        "if __name__ == \"__main__\":\n",
        "    handle_exceptions()"
      ],
      "metadata": {
        "colab": {
          "base_uri": "https://localhost:8080/"
        },
        "id": "eOQVnSZM-KE8",
        "outputId": "5283ba5a-40ff-4703-d51e-993dc3af00e3"
      },
      "execution_count": 35,
      "outputs": [
        {
          "output_type": "stream",
          "name": "stdout",
          "text": [
            "Error: List index is out of range!\n"
          ]
        }
      ]
    },
    {
      "cell_type": "code",
      "source": [
        "#How would you open a file and read its contents using a context manager in Python\n",
        "def write_numbers_to_file(file_path, numbers):\n",
        "    try:\n",
        "        with open(file_path, 'w') as file:\n",
        "            for number in numbers:\n",
        "                file.write(f\"{number}\\n\")\n",
        "        print(f\"Numbers successfully written to {file_path}\")\n",
        "    except Exception as e:\n",
        "        print(f\"An error occurred: {e}\")\n",
        "\n",
        "if __name__ == \"__main__\":\n",
        "    numbers = list(range(1, 11))\n",
        "    file_path = \"numbers.txt\"\n",
        "    write_numbers_to_file(file_path, numbers)\n"
      ],
      "metadata": {
        "colab": {
          "base_uri": "https://localhost:8080/"
        },
        "id": "MnGSgwd6-lWe",
        "outputId": "9e07f5b9-e8d5-4b7d-d27f-2157616e3db9"
      },
      "execution_count": 36,
      "outputs": [
        {
          "output_type": "stream",
          "name": "stdout",
          "text": [
            "Numbers successfully written to numbers.txt\n"
          ]
        }
      ]
    },
    {
      "cell_type": "code",
      "source": [
        "# Write a Python program that reads a file and prints the number of occurrences of a specific word\n",
        "def count_word_occurrences(file_path, target_word):\n",
        "    try:\n",
        "        with open(file_path, 'r', encoding='utf-8') as file:\n",
        "            content = file.read()\n",
        "            words = content.split()\n",
        "            count = words.count(target_word)\n",
        "            print(f\"The word '{target_word}' appears {count} times in the file.\")\n",
        "    except FileNotFoundError:\n",
        "        print(\"Error: The file does not exist.\")\n",
        "    except Exception as e:\n",
        "        print(f\"An error occurred: {e}\")\n",
        "\n",
        "if __name__ == \"__main__\":\n",
        "    file_path = input(\"Enter the file path: \")\n",
        "    target_word = input(\"Enter the word to count: \")\n",
        "    count_word_occurrences(file_path, target_word)"
      ],
      "metadata": {
        "colab": {
          "base_uri": "https://localhost:8080/"
        },
        "id": "Ay34YSNv-xP9",
        "outputId": "b026065a-371b-4701-ece0-4cb26783ea32"
      },
      "execution_count": 37,
      "outputs": [
        {
          "output_type": "stream",
          "name": "stdout",
          "text": [
            "Enter the file path: example.txt\n",
            "Enter the word to count: +\n",
            "The word '+' appears 0 times in the file.\n"
          ]
        }
      ]
    },
    {
      "cell_type": "code",
      "source": [
        "\n",
        "# How can you check if a file is empty before attempting to read its contents\n",
        "def is_file_empty(file_path):\n",
        "    try:\n",
        "        with open(file_path, 'r') as file:\n",
        "            content = file.read()\n",
        "            if not content:\n",
        "                return True\n",
        "            else:\n",
        "                return False\n",
        "    except FileNotFoundError:\n",
        "        return True"
      ],
      "metadata": {
        "id": "ia27Z7Mm-7BD"
      },
      "execution_count": 43,
      "outputs": []
    },
    {
      "cell_type": "code",
      "source": [
        "# Write a Python program that writes to a log file when an error occurs during file handling\n",
        "import os\n",
        "import datetime\n",
        "\n",
        "def log_error(file_path, error_message):\n",
        "    \"\"\"Logs an error message with a timestamp to a log file.\"\"\"\n",
        "\n",
        "    log_file = \"file_handling_errors.log\"\n",
        "    timestamp = datetime.datetime.now().strftime(\"%Y-%m-%d %H:%M:%S\")\n",
        "    error_entry = f\"{timestamp}: Error processing file '{file_path}': {error_message}\\n\"\n",
        "\n",
        "    try:\n",
        "        with open(log_file, \"a\") as log:\n",
        "            log.write(error_entry)\n",
        "        print(f\"Error logged to {log_file}\")\n",
        "    except Exception as e:\n",
        "        print(f\"FATAL: Could not write to log file! Original error: {error_message}, Log file error: {e}\")\n",
        "\n",
        "\n",
        "def process_file(file_path):\n",
        "    \"\"\"Processes a file, simulating potential errors.\"\"\"\n",
        "\n",
        "    try:\n",
        "        with open(file_path, \"r\") as f:\n",
        "            contents = f.read()\n",
        "\n",
        "            try:\n",
        "                int(contents)\n",
        "                print(\"File content is an integer:\", contents)\n",
        "            except ValueError:\n",
        "                print(\"File content is NOT an integer:\", contents)\n",
        "\n",
        "    except FileNotFoundError:\n",
        "        log_error(file_path, \"File not found.\")\n",
        "    except PermissionError:\n",
        "        log_error(file_path, \"Permission denied.\")\n",
        "    except Exception as e:\n",
        "        log_error(file_path, f\"An unexpected error occurred: {e}\")\n",
        "\n",
        "\n",
        "\n",
        "file_path1 = \"my_file.txt\"\n",
        "file_path2 = \"nonexistent_file.txt\"\n",
        "file_path3 = \"/root/protected_file.txt\"\n",
        "\n",
        "process_file(file_path1)\n",
        "process_file(file_path2)\n",
        "process_file(file_path3)"
      ],
      "metadata": {
        "colab": {
          "base_uri": "https://localhost:8080/"
        },
        "id": "5AckfOE7_SUi",
        "outputId": "7fffc39f-fac6-4f1f-ec72-49e75fb2df6d"
      },
      "execution_count": 44,
      "outputs": [
        {
          "output_type": "stream",
          "name": "stdout",
          "text": [
            "Error logged to file_handling_errors.log\n",
            "Error logged to file_handling_errors.log\n",
            "Error logged to file_handling_errors.log\n"
          ]
        }
      ]
    },
    {
      "cell_type": "code",
      "source": [],
      "metadata": {
        "id": "YN-RqOMV_ziT"
      },
      "execution_count": null,
      "outputs": []
    }
  ]
}